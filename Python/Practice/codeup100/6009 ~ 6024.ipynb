{
 "cells": [
  {
   "cell_type": "code",
   "execution_count": null,
   "id": "0e75e069",
   "metadata": {},
   "outputs": [],
   "source": [
    "# 6009\n",
    "'''\n",
    "문자(character)는\n",
    "0\\~9, a\\~z, A\\~Z, !, @, #, {, [, <, ... 과 같이 \n",
    "길이가 1인 기호라고 할 수 있다.\n",
    "\n",
    "변수에 문자 1개를 저장한 후\n",
    "변수에 저장되어 있는 문자를 그대로 출력해보자.\n",
    "\n",
    "예시\n",
    "c = input()  \n",
    "print(c)\n",
    "'''"
   ]
  },
  {
   "cell_type": "code",
   "execution_count": 1,
   "id": "a90bba1a",
   "metadata": {},
   "outputs": [
    {
     "name": "stdout",
     "output_type": "stream",
     "text": [
      "3\n",
      "3\n"
     ]
    }
   ],
   "source": [
    "c = input()\n",
    "print(c)"
   ]
  },
  {
   "cell_type": "code",
   "execution_count": 4,
   "id": "3b76537d",
   "metadata": {},
   "outputs": [
    {
     "data": {
      "text/plain": [
       "'\\n정수(integer)는\\n양의 정수(1, 2, 3, 4, 5, ...), 음의 정수(-1, -2, -3, -4, -5, ...), 0 과 같이\\n소숫점 아래에 수가 없는 수라고 할 수 있다.\\n\\n변수에 정수값을 저장한 후 정수로 변환하여 출력해보자.\\n'"
      ]
     },
     "execution_count": 4,
     "metadata": {},
     "output_type": "execute_result"
    }
   ],
   "source": [
    "# 6010\n",
    "'''\n",
    "정수(integer)는\n",
    "양의 정수(1, 2, 3, 4, 5, ...), 음의 정수(-1, -2, -3, -4, -5, ...), 0 과 같이\n",
    "소숫점 아래에 수가 없는 수라고 할 수 있다.\n",
    "\n",
    "변수에 정수값을 저장한 후 정수로 변환하여 출력해보자.\n",
    "'''"
   ]
  },
  {
   "cell_type": "code",
   "execution_count": 2,
   "id": "965ab6c0",
   "metadata": {},
   "outputs": [
    {
     "name": "stdout",
     "output_type": "stream",
     "text": [
      "3\n",
      "3\n"
     ]
    }
   ],
   "source": [
    "x = int(input())\n",
    "print(x)"
   ]
  },
  {
   "cell_type": "code",
   "execution_count": 2,
   "id": "1ae5ea97",
   "metadata": {},
   "outputs": [
    {
     "data": {
      "text/plain": [
       "'\\n숫자(0~9)와 소수점(.)을 사용해 표현한 수를 실수(real number)라고 한다.\\n\\n변수에 실수값을 저장한 후\\n변수에 저장되어 있는 값을 그대로 출력해보자.\\n'"
      ]
     },
     "execution_count": 2,
     "metadata": {},
     "output_type": "execute_result"
    }
   ],
   "source": [
    "# 6011\n",
    "'''\n",
    "숫자(0~9)와 소수점(.)을 사용해 표현한 수를 실수(real number)라고 한다.\n",
    "\n",
    "변수에 실수값을 저장한 후\n",
    "변수에 저장되어 있는 값을 그대로 출력해보자.\n",
    "'''"
   ]
  },
  {
   "cell_type": "code",
   "execution_count": 4,
   "id": "4c9d276f",
   "metadata": {},
   "outputs": [
    {
     "name": "stdout",
     "output_type": "stream",
     "text": [
      "3.5\n",
      "3.5\n"
     ]
    }
   ],
   "source": [
    "x = float(input())\n",
    "print(x)"
   ]
  },
  {
   "cell_type": "code",
   "execution_count": null,
   "id": "4f706470",
   "metadata": {},
   "outputs": [],
   "source": [
    "# 6012\n",
    "# 줄을 바꿔 정수(integer) 2개를 입력받아 줄을 바꿔 출력해보자"
   ]
  },
  {
   "cell_type": "code",
   "execution_count": 7,
   "id": "dc042f49",
   "metadata": {},
   "outputs": [
    {
     "name": "stdout",
     "output_type": "stream",
     "text": [
      "3\n",
      "4\n",
      "3\n",
      "4\n"
     ]
    }
   ],
   "source": [
    "x = int(input())\n",
    "y = int(input())\n",
    "print(x)\n",
    "print(y)"
   ]
  },
  {
   "cell_type": "code",
   "execution_count": null,
   "id": "b6f469f8",
   "metadata": {},
   "outputs": [],
   "source": [
    "# 6013\n",
    "# 줄을 바꿔 문자(character) 2개를 입력받고, 순서를 바꿔 한 줄씩 출력해보자.\n"
   ]
  },
  {
   "cell_type": "code",
   "execution_count": 8,
   "id": "8b1da225",
   "metadata": {},
   "outputs": [
    {
     "name": "stdout",
     "output_type": "stream",
     "text": [
      "b\n",
      "a\n",
      "a\n",
      "b\n"
     ]
    }
   ],
   "source": [
    "a = input()\n",
    "b = input()\n",
    "print(b)\n",
    "print(a)"
   ]
  },
  {
   "cell_type": "code",
   "execution_count": null,
   "id": "9f94f970",
   "metadata": {},
   "outputs": [],
   "source": [
    "# 6014\n",
    "# 실수(real number) 1개를 입력받아 줄을 바꿔 3번 출력해보자.\n"
   ]
  },
  {
   "cell_type": "code",
   "execution_count": 9,
   "id": "74bdbe9c",
   "metadata": {},
   "outputs": [
    {
     "name": "stdout",
     "output_type": "stream",
     "text": [
      "3.5\n",
      "3.5\n",
      "3.5\n",
      "3.5\n"
     ]
    }
   ],
   "source": [
    "r = float(input())\n",
    "print(r)\n",
    "print(r)\n",
    "print(r)"
   ]
  },
  {
   "cell_type": "code",
   "execution_count": null,
   "id": "763f5b67",
   "metadata": {},
   "outputs": [],
   "source": [
    "# 6015\n",
    "'''\n",
    "공백을 두고 입력된정수(integer) 2개를 입력받아 줄을 바꿔 출력해보자.\n",
    "'''"
   ]
  },
  {
   "cell_type": "code",
   "execution_count": 5,
   "id": "51cf174f",
   "metadata": {},
   "outputs": [
    {
     "name": "stdout",
     "output_type": "stream",
     "text": [
      "3 4\n",
      "3\n",
      "4\n"
     ]
    }
   ],
   "source": [
    "x, y = map(int,input().split())\n",
    "print(x)\n",
    "print(y)"
   ]
  },
  {
   "cell_type": "code",
   "execution_count": null,
   "id": "b0fdfa1a",
   "metadata": {},
   "outputs": [],
   "source": [
    "# 6016\n",
    "'''\n",
    "공백을 두고 문자(character) 2개를 입력받아 순서를 바꿔 출력해보자.\n",
    "\n",
    "'''"
   ]
  },
  {
   "cell_type": "code",
   "execution_count": 7,
   "id": "73090b53",
   "metadata": {},
   "outputs": [
    {
     "name": "stdout",
     "output_type": "stream",
     "text": [
      "a b\n",
      "b a\n"
     ]
    }
   ],
   "source": [
    "x, y = input().split()\n",
    "print(y, x)"
   ]
  },
  {
   "cell_type": "code",
   "execution_count": null,
   "id": "2b936cec",
   "metadata": {},
   "outputs": [],
   "source": [
    "# 6017\n",
    "'''\n",
    "정수(integer), 실수, 문자(character), 문자열(string) 등 1개만 입력받아 한 줄로 3번 출력해보자.\n",
    "'''"
   ]
  },
  {
   "cell_type": "code",
   "execution_count": 9,
   "id": "c6b3ec57",
   "metadata": {},
   "outputs": [
    {
     "name": "stdout",
     "output_type": "stream",
     "text": [
      "4\n",
      "4 4 4\n"
     ]
    }
   ],
   "source": [
    "x = input()\n",
    "print(x, x, x)"
   ]
  },
  {
   "cell_type": "code",
   "execution_count": null,
   "id": "3fe9cd98",
   "metadata": {},
   "outputs": [],
   "source": [
    "# 6018\n",
    "'''\n",
    "24시간 시:분 형식으로 시간이 입력될 때, 그대로 출력하는 연습을 해보자.\n",
    "'''"
   ]
  },
  {
   "cell_type": "code",
   "execution_count": 12,
   "id": "0334c701",
   "metadata": {},
   "outputs": [
    {
     "name": "stdout",
     "output_type": "stream",
     "text": [
      "24:56\n",
      "24:56\n"
     ]
    }
   ],
   "source": [
    "h, m = input().split(':')\n",
    "print(h,m,sep = ':')"
   ]
  },
  {
   "cell_type": "code",
   "execution_count": null,
   "id": "d21693bc",
   "metadata": {},
   "outputs": [],
   "source": [
    "# 6019\n",
    "'''\n",
    "\"연도.월.일\"을 입력받아 \"일-월-연도\" 순서로 바꿔 출력해보자.\n",
    "\n",
    "'''"
   ]
  },
  {
   "cell_type": "code",
   "execution_count": 19,
   "id": "c51410cc",
   "metadata": {},
   "outputs": [
    {
     "name": "stdout",
     "output_type": "stream",
     "text": [
      "202.07.19\n",
      "19-07-202\n"
     ]
    }
   ],
   "source": [
    "y, m ,d = input().split('.')\n",
    "print(d,m,y,sep = '-')"
   ]
  },
  {
   "cell_type": "code",
   "execution_count": null,
   "id": "4ffcfef9",
   "metadata": {},
   "outputs": [],
   "source": [
    "#6020\n",
    "'''\n",
    "주민번호는 다음과 같이 구성된다.\n",
    "XXXXXX-XXXXXXX\n",
    "\n",
    "왼쪽 6자리는 생년월일(YYMMDD)이고, 오른쪽 7자리는 성별,출생지역,확인코드로 구성되어있다.\n",
    "주민번호를 입력받아 형태를 바꿔 출력해보자.\n",
    "\n",
    "입력\n",
    "주민번호 앞 6자리와 뒷 7자리가 '-'로 구분되어 입력된다.\n",
    "(입력값은 가상의 주민번호이다.)\n",
    "ex)110011-0000000\n",
    "\n",
    "\n",
    "출력\n",
    "'-'를 제외한 주민번호 13자리를 모두 붙여 출력한다.\n",
    "\n",
    "'''"
   ]
  },
  {
   "cell_type": "code",
   "execution_count": 30,
   "id": "4e1b662f",
   "metadata": {},
   "outputs": [
    {
     "name": "stdout",
     "output_type": "stream",
     "text": [
      "총 14잔의 주문이 들어왔습니다.\n"
     ]
    },
    {
     "ename": "TypeError",
     "evalue": "'NoneType' object is not callable",
     "output_type": "error",
     "traceback": [
      "\u001b[1;31m---------------------------------------------------------------------------\u001b[0m",
      "\u001b[1;31mTypeError\u001b[0m                                 Traceback (most recent call last)",
      "Input \u001b[1;32mIn [30]\u001b[0m, in \u001b[0;36m<cell line: 9>\u001b[1;34m()\u001b[0m\n\u001b[0;32m      6\u001b[0m \u001b[38;5;28mprint\u001b[39m(\u001b[38;5;124mf\u001b[39m\u001b[38;5;124m'\u001b[39m\u001b[38;5;124m총 \u001b[39m\u001b[38;5;132;01m{\u001b[39;00mnums\u001b[38;5;132;01m}\u001b[39;00m\u001b[38;5;124m잔의 주문이 들어왔습니다.\u001b[39m\u001b[38;5;124m'\u001b[39m)\n\u001b[0;32m      8\u001b[0m \u001b[38;5;66;03m#2\u001b[39;00m\n\u001b[1;32m----> 9\u001b[0m set_orders \u001b[38;5;241m=\u001b[39m \u001b[38;5;28;43mset\u001b[39;49m\u001b[43m(\u001b[49m\u001b[43mlist_orders\u001b[49m\u001b[43m)\u001b[49m\n\u001b[0;32m     10\u001b[0m \u001b[38;5;28mprint\u001b[39m(set_orders)\n\u001b[0;32m     11\u001b[0m \u001b[38;5;28mset\u001b[39m \u001b[38;5;241m=\u001b[39m \u001b[38;5;28mlist\u001b[39m(set_orders)\n",
      "\u001b[1;31mTypeError\u001b[0m: 'NoneType' object is not callable"
     ]
    }
   ],
   "source": [
    "orders = '아이스아메리카노,카라멜마키야또,에스프레소,아메리카노,아메리카노,아이스라떼,핫초코,아이스아메리카노,아메리카노,아이스카라멜마키야또,아이스라떼,라떼마키야또,카푸치노,라떼마키야또'\n",
    "\n",
    "#1\n",
    "list_orders = list(orders.split(','))\n",
    "nums = len(list_orders)\n",
    "print(f'총 {nums}잔의 주문이 들어왔습니다.')\n",
    "\n",
    "#2\n",
    "set_orders = set(list_orders)\n",
    "print(set_orders)\n",
    "set = list(set_orders)\n",
    "set = set.sort(reverse = True)\n",
    "print(set)"
   ]
  },
  {
   "cell_type": "code",
   "execution_count": null,
   "id": "d5f6af98",
   "metadata": {},
   "outputs": [],
   "source": []
  },
  {
   "cell_type": "code",
   "execution_count": null,
   "id": "24567f10",
   "metadata": {},
   "outputs": [],
   "source": []
  },
  {
   "cell_type": "code",
   "execution_count": null,
   "id": "104036a3",
   "metadata": {},
   "outputs": [],
   "source": []
  }
 ],
 "metadata": {
  "kernelspec": {
   "display_name": "Python 3 (ipykernel)",
   "language": "python",
   "name": "python3"
  },
  "language_info": {
   "codemirror_mode": {
    "name": "ipython",
    "version": 3
   },
   "file_extension": ".py",
   "mimetype": "text/x-python",
   "name": "python",
   "nbconvert_exporter": "python",
   "pygments_lexer": "ipython3",
   "version": "3.9.13"
  },
  "toc": {
   "base_numbering": 1,
   "nav_menu": {},
   "number_sections": true,
   "sideBar": true,
   "skip_h1_title": false,
   "title_cell": "Table of Contents",
   "title_sidebar": "Contents",
   "toc_cell": false,
   "toc_position": {},
   "toc_section_display": true,
   "toc_window_display": false
  }
 },
 "nbformat": 4,
 "nbformat_minor": 5
}
