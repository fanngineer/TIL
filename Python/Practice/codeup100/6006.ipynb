{
 "cells": [
  {
   "cell_type": "markdown",
   "id": "0b32d62d",
   "metadata": {},
   "source": [
    "이번에는 특수문자 출력에 도전하자!!\n",
    "\n",
    "다음 문장을 출력하시오.\n",
    "\n",
    "\"!@#$%^&*()'"
   ]
  },
  {
   "cell_type": "code",
   "execution_count": 5,
   "id": "6bcecb73",
   "metadata": {},
   "outputs": [
    {
     "name": "stdout",
     "output_type": "stream",
     "text": [
      "\"!@#$%^&*()'\n"
     ]
    }
   ],
   "source": [
    "print('\\\"!@#$%^&*()\\'')"
   ]
  },
  {
   "cell_type": "code",
   "execution_count": null,
   "id": "69129110",
   "metadata": {},
   "outputs": [],
   "source": []
  }
 ],
 "metadata": {
  "kernelspec": {
   "display_name": "Python 3 (ipykernel)",
   "language": "python",
   "name": "python3"
  },
  "language_info": {
   "codemirror_mode": {
    "name": "ipython",
    "version": 3
   },
   "file_extension": ".py",
   "mimetype": "text/x-python",
   "name": "python",
   "nbconvert_exporter": "python",
   "pygments_lexer": "ipython3",
   "version": "3.9.13"
  },
  "toc": {
   "base_numbering": 1,
   "nav_menu": {},
   "number_sections": true,
   "sideBar": true,
   "skip_h1_title": false,
   "title_cell": "Table of Contents",
   "title_sidebar": "Contents",
   "toc_cell": false,
   "toc_position": {},
   "toc_section_display": true,
   "toc_window_display": false
  }
 },
 "nbformat": 4,
 "nbformat_minor": 5
}
