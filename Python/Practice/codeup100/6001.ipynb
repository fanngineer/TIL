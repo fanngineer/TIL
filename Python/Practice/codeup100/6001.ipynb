{
 "cells": [
  {
   "cell_type": "markdown",
   "id": "05d22bec",
   "metadata": {},
   "source": [
    "python 언어에서 가장 기본적인 명령이 출력문이다.\n",
    "print( )를 이용해 다음 단어를 출력하시오.\n",
    "\n",
    "Hello\n",
    "\n",
    "예시\n",
    "print(\"Hello\") "
   ]
  },
  {
   "cell_type": "code",
   "execution_count": 1,
   "id": "fc38d4c7",
   "metadata": {},
   "outputs": [
    {
     "name": "stdout",
     "output_type": "stream",
     "text": [
      "Hello\n"
     ]
    }
   ],
   "source": [
    "print('Hello')"
   ]
  },
  {
   "cell_type": "code",
   "execution_count": null,
   "id": "ef2e5d11",
   "metadata": {},
   "outputs": [],
   "source": []
  }
 ],
 "metadata": {
  "kernelspec": {
   "display_name": "Python 3 (ipykernel)",
   "language": "python",
   "name": "python3"
  },
  "language_info": {
   "codemirror_mode": {
    "name": "ipython",
    "version": 3
   },
   "file_extension": ".py",
   "mimetype": "text/x-python",
   "name": "python",
   "nbconvert_exporter": "python",
   "pygments_lexer": "ipython3",
   "version": "3.9.13"
  },
  "toc": {
   "base_numbering": 1,
   "nav_menu": {},
   "number_sections": true,
   "sideBar": true,
   "skip_h1_title": false,
   "title_cell": "Table of Contents",
   "title_sidebar": "Contents",
   "toc_cell": false,
   "toc_position": {},
   "toc_section_display": true,
   "toc_window_display": false
  }
 },
 "nbformat": 4,
 "nbformat_minor": 5
}
