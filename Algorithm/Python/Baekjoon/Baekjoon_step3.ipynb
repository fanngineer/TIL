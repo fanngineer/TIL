{
 "cells": [
  {
   "cell_type": "code",
   "execution_count": 4,
   "metadata": {},
   "outputs": [
    {
     "name": "stdout",
     "output_type": "stream",
     "text": [
      "4\n",
      "4 * 1 = 4\n",
      "4 * 2 = 8\n",
      "4 * 3 = 12\n",
      "4 * 4 = 16\n",
      "4 * 5 = 20\n",
      "4 * 6 = 24\n",
      "4 * 7 = 28\n",
      "4 * 8 = 32\n",
      "4 * 9 = 36\n"
     ]
    }
   ],
   "source": [
    "#2739\n",
    "N = int(input())\n",
    "for i in range(9):\n",
    "    print(f'{N} * {i+1} = {N*(i+1)}')"
   ]
  },
  {
   "cell_type": "code",
   "execution_count": 5,
   "metadata": {},
   "outputs": [
    {
     "name": "stdout",
     "output_type": "stream",
     "text": [
      "3\n",
      "1 2\n",
      "3 4\n",
      "5 6\n",
      "3\n",
      "7\n",
      "11\n"
     ]
    }
   ],
   "source": [
    "#10950\n",
    "T = int(input())\n",
    "C = []\n",
    "for i in range(T):\n",
    "    A, B = map(int,input().split())\n",
    "    C.append(A+B)\n",
    "for i in C:\n",
    "    print(i)\n",
    "    "
   ]
  },
  {
   "cell_type": "code",
   "execution_count": 1,
   "metadata": {
    "execution": {
     "iopub.execute_input": "2022-07-23T13:28:44.049Z",
     "iopub.status.busy": "2022-07-23T13:28:44.028Z",
     "iopub.status.idle": "2022-07-23T13:28:50.239Z",
     "shell.execute_reply": "2022-07-23T13:28:50.252Z"
    }
   },
   "outputs": [
    {
     "name": "stdout",
     "output_type": "stream",
     "text": [
      "15\n"
     ]
    }
   ],
   "source": [
    "#8393\n",
    "n = int(input())\n",
    "s = 0\n",
    "for i in range(1,n+1):\n",
    "    s += i\n",
    "print(s)"
   ]
  },
  {
   "cell_type": "code",
   "execution_count": 1,
   "metadata": {
    "jupyter": {
     "outputs_hidden": false,
     "source_hidden": false
    },
    "nteract": {
     "transient": {
      "deleting": false
     }
    }
   },
   "outputs": [
    {
     "name": "stdout",
     "output_type": "stream",
     "text": [
      "3\n"
     ]
    },
    {
     "ename": "ValueError",
     "evalue": "not enough values to unpack (expected 2, got 0)",
     "output_type": "error",
     "traceback": [
      "\u001b[1;31m---------------------------------------------------------------------------\u001b[0m",
      "\u001b[1;31mValueError\u001b[0m                                Traceback (most recent call last)",
      "Input \u001b[1;32mIn [1]\u001b[0m, in \u001b[0;36m<cell line: 4>\u001b[1;34m()\u001b[0m\n\u001b[0;32m      3\u001b[0m t \u001b[38;5;241m=\u001b[39m \u001b[38;5;28mint\u001b[39m(\u001b[38;5;28minput\u001b[39m())\n\u001b[0;32m      4\u001b[0m \u001b[38;5;28;01mfor\u001b[39;00m i \u001b[38;5;129;01min\u001b[39;00m \u001b[38;5;28mrange\u001b[39m(t):\n\u001b[1;32m----> 5\u001b[0m     a, b \u001b[38;5;241m=\u001b[39m sys\u001b[38;5;241m.\u001b[39mstdin\u001b[38;5;241m.\u001b[39mreadline()\u001b[38;5;241m.\u001b[39msplit()\n\u001b[0;32m      6\u001b[0m     \u001b[38;5;28mprint\u001b[39m(\u001b[38;5;28mint\u001b[39m(a)\u001b[38;5;241m+\u001b[39m\u001b[38;5;28mint\u001b[39m(b))\n",
      "\u001b[1;31mValueError\u001b[0m: not enough values to unpack (expected 2, got 0)"
     ]
    }
   ],
   "source": [
    "#15552\n",
    "import sys\n",
    "t = int(input())\n",
    "for i in range(t):\n",
    "    a, b = sys.stdin.readline().split()\n",
    "    print(int(a)+int(b))"
   ]
  },
  {
   "cell_type": "code",
   "execution_count": 2,
   "metadata": {
    "jupyter": {
     "outputs_hidden": false,
     "source_hidden": false
    },
    "nteract": {
     "transient": {
      "deleting": false
     }
    }
   },
   "outputs": [
    {
     "name": "stdout",
     "output_type": "stream",
     "text": [
      "5\n",
      "1\n",
      "2\n",
      "3\n",
      "4\n",
      "5\n"
     ]
    }
   ],
   "source": [
    "#2741\n",
    "N = int(input())\n",
    "for i in range(N):\n",
    "    print(i+1)\n"
   ]
  },
  {
   "cell_type": "code",
   "execution_count": 3,
   "metadata": {},
   "outputs": [
    {
     "name": "stdout",
     "output_type": "stream",
     "text": [
      "5\n",
      "5\n",
      "4\n",
      "3\n",
      "2\n",
      "1\n"
     ]
    }
   ],
   "source": [
    "#2742\n",
    "N = int(input())\n",
    "for i in range(N,0,-1):\n",
    "    print(i)"
   ]
  },
  {
   "cell_type": "code",
   "execution_count": 7,
   "metadata": {},
   "outputs": [
    {
     "name": "stdout",
     "output_type": "stream",
     "text": [
      "3\n",
      "1 1\n",
      "3 4\n",
      "5 6\n",
      "Case #1: 2\n",
      "Case #2: 7\n",
      "Case #3: 11\n"
     ]
    }
   ],
   "source": [
    "#11021\n",
    "T = int(input())\n",
    "A = []\n",
    "B = []\n",
    "#입력\n",
    "for i in range(T):\n",
    "    a, b = map(int,input().split())\n",
    "    A.append(a)\n",
    "    B.append(b)\n",
    "#출력\n",
    "for i in range(T):\n",
    "    print(f'Case #{i+1}: {A[i]+B[i]}')\n"
   ]
  },
  {
   "cell_type": "code",
   "execution_count": 8,
   "metadata": {},
   "outputs": [
    {
     "name": "stdout",
     "output_type": "stream",
     "text": [
      "3\n",
      "2 3\n",
      "4 5\n",
      "3 4\n",
      "Case #1: 2 + 3 = 5\n",
      "Case #2: 4 + 5 = 9\n",
      "Case #3: 3 + 4 = 7\n"
     ]
    }
   ],
   "source": [
    "#11022\n",
    "T = int(input())\n",
    "A = []\n",
    "B = []\n",
    "#입력\n",
    "for i in range(T):\n",
    "    a, b = map(int,input().split())\n",
    "    A.append(a)\n",
    "    B.append(b)\n",
    "#출력\n",
    "for i in range(T):\n",
    "    print(f'Case #{i+1}: {A[i]} + {B[i]} = {A[i]+B[i]}')"
   ]
  },
  {
   "cell_type": "code",
   "execution_count": 9,
   "metadata": {},
   "outputs": [
    {
     "name": "stdout",
     "output_type": "stream",
     "text": [
      "5\n",
      "*\n",
      "**\n",
      "***\n",
      "****\n",
      "*****\n"
     ]
    }
   ],
   "source": [
    "#2438\n",
    "N = int(input())\n",
    "for i in range(1,N+1):\n",
    "    print('*'*i)\n"
   ]
  },
  {
   "cell_type": "code",
   "execution_count": 1,
   "metadata": {},
   "outputs": [
    {
     "name": "stdout",
     "output_type": "stream",
     "text": [
      "5\n",
      "    *\n",
      "   **\n",
      "  ***\n",
      " ****\n",
      "*****\n"
     ]
    }
   ],
   "source": [
    "#2439\n",
    "N = int(input())\n",
    "for i in range(1,N+1):\n",
    "    print(' '*(N-i)+'*'*i)\n"
   ]
  },
  {
   "cell_type": "code",
   "execution_count": 2,
   "metadata": {},
   "outputs": [
    {
     "name": "stdout",
     "output_type": "stream",
     "text": [
      "10 5\n",
      "1 10 4 9 2 3 8 5 7 6\n",
      "1423"
     ]
    }
   ],
   "source": [
    "#10871\n",
    "N, X = map(int,input().split())\n",
    "A = list(input().split())\n",
    "for i in A:\n",
    "    if int(i) < X:\n",
    "        print(i,end=' ')"
   ]
  },
  {
   "cell_type": "markdown",
   "metadata": {},
   "source": [
    "### "
   ]
  },
  {
   "cell_type": "code",
   "execution_count": 6,
   "metadata": {},
   "outputs": [
    {
     "name": "stdout",
     "output_type": "stream",
     "text": [
      "1 1\n",
      "2 3\n",
      "4 5\n",
      "9 8\n",
      "5 2\n",
      "0 0\n",
      "2\n",
      "5\n",
      "9\n",
      "17\n",
      "7\n"
     ]
    }
   ],
   "source": [
    "#10952\n",
    "A = []\n",
    "B = []\n",
    "while 1:\n",
    "    C = input()\n",
    "    if C == '0 0':\n",
    "        break\n",
    "    a, b = map(int,C.split())\n",
    "    A.append(a)\n",
    "    B.append(b)\n",
    "for i in range(len(A)):\n",
    "    \n",
    "    print(A[i]+B[i])"
   ]
  },
  {
   "cell_type": "code",
   "execution_count": null,
   "metadata": {},
   "outputs": [],
   "source": []
  }
 ],
 "metadata": {
  "kernelspec": {
   "display_name": "Python 3 (ipykernel)",
   "language": "python",
   "name": "python3"
  },
  "language_info": {
   "codemirror_mode": {
    "name": "ipython",
    "version": 3
   },
   "file_extension": ".py",
   "mimetype": "text/x-python",
   "name": "python",
   "nbconvert_exporter": "python",
   "pygments_lexer": "ipython3",
   "version": "3.9.13"
  },
  "nteract": {
   "version": "0.28.0"
  },
  "toc": {
   "base_numbering": 1,
   "nav_menu": {},
   "number_sections": true,
   "sideBar": true,
   "skip_h1_title": false,
   "title_cell": "Table of Contents",
   "title_sidebar": "Contents",
   "toc_cell": false,
   "toc_position": {},
   "toc_section_display": true,
   "toc_window_display": false
  }
 },
 "nbformat": 4,
 "nbformat_minor": 2
}
