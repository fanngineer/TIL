{
  "cells": [
    {
      "cell_type": "code",
      "source": [
        "#2739\n",
        "N = int(input())\n",
        "for i in range(9):\n",
        "    print(f'{N} * {i+1} = {N*(i+1)}')"
      ],
      "outputs": [
        {
          "output_type": "stream",
          "name": "stdout",
          "text": [
            "4\n",
            "4 * 1 = 4\n",
            "4 * 2 = 8\n",
            "4 * 3 = 12\n",
            "4 * 4 = 16\n",
            "4 * 5 = 20\n",
            "4 * 6 = 24\n",
            "4 * 7 = 28\n",
            "4 * 8 = 32\n",
            "4 * 9 = 36\n"
          ]
        }
      ],
      "execution_count": 4,
      "metadata": {}
    },
    {
      "cell_type": "code",
      "source": [
        "#10950\n",
        "T = int(input())\n",
        "C = []\n",
        "for i in range(T):\n",
        "    A, B = map(int,input().split())\n",
        "    C.append(A+B)\n",
        "for i in C:\n",
        "    print(i)\n",
        "    "
      ],
      "outputs": [
        {
          "output_type": "stream",
          "name": "stdout",
          "text": [
            "3\n",
            "1 2\n",
            "3 4\n",
            "5 6\n",
            "3\n",
            "7\n",
            "11\n"
          ]
        }
      ],
      "execution_count": 5,
      "metadata": {}
    },
    {
      "cell_type": "code",
      "source": [
        "#8393\n",
        "n = int(input())\n",
        "s = 0\n",
        "for i in range(1,n+1):\n",
        "    s += i\n",
        "print(s)"
      ],
      "outputs": [
        {
          "output_type": "stream",
          "name": "stdout",
          "text": [
            "15\n"
          ]
        }
      ],
      "execution_count": 1,
      "metadata": {
        "execution": {
          "iopub.status.busy": "2022-07-23T13:28:44.028Z",
          "iopub.execute_input": "2022-07-23T13:28:44.049Z",
          "iopub.status.idle": "2022-07-23T13:28:50.239Z",
          "shell.execute_reply": "2022-07-23T13:28:50.252Z"
        }
      }
    },
    {
      "cell_type": "code",
      "source": [
        "#15552\n",
        "import sys\n",
        "t = int(input())\n",
        "for i in range(t):\n",
        "    a, b = sys.stdin.readline().split()\n",
        "    print(int(a)+int(b))"
      ],
      "outputs": [],
      "execution_count": null,
      "metadata": {
        "collapsed": true,
        "jupyter": {
          "source_hidden": false,
          "outputs_hidden": false
        },
        "nteract": {
          "transient": {
            "deleting": false
          }
        }
      }
    },
    {
      "cell_type": "code",
      "source": [],
      "outputs": [],
      "execution_count": null,
      "metadata": {
        "collapsed": true,
        "jupyter": {
          "source_hidden": false,
          "outputs_hidden": false
        },
        "nteract": {
          "transient": {
            "deleting": false
          }
        }
      }
    }
  ],
  "metadata": {
    "kernelspec": {
      "display_name": "Python 3",
      "language": "python",
      "name": "python3"
    },
    "language_info": {
      "name": "python",
      "version": "3.7.3",
      "mimetype": "text/x-python",
      "codemirror_mode": {
        "name": "ipython",
        "version": 3
      },
      "pygments_lexer": "ipython3",
      "nbconvert_exporter": "python",
      "file_extension": ".py"
    },
    "nteract": {
      "version": "0.28.0"
    }
  },
  "nbformat": 4,
  "nbformat_minor": 2
}