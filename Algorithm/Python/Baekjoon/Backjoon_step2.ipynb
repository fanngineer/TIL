{
 "cells": [
  {
   "cell_type": "code",
   "execution_count": 2,
   "id": "2bff0e1a",
   "metadata": {},
   "outputs": [
    {
     "name": "stdout",
     "output_type": "stream",
     "text": [
      "1 2\n",
      "<\n"
     ]
    }
   ],
   "source": [
    "#1330\n",
    "#두 정수 A와 B가 주어졌을 때, A와 B를 비교하는 프로그램을 작성하시오.\n",
    "\n",
    "A, B = map(int,input().split())\n",
    "if A>B :\n",
    "    print('>')\n",
    "elif B>A :\n",
    "    print('<')\n",
    "else :\n",
    "    print('==')"
   ]
  },
  {
   "cell_type": "code",
   "execution_count": 3,
   "id": "8d21b4e2",
   "metadata": {},
   "outputs": [
    {
     "name": "stdout",
     "output_type": "stream",
     "text": [
      "75\n",
      "C\n"
     ]
    }
   ],
   "source": [
    "#9498\n",
    "#시험 점수를 입력받아 90 ~ 100점은 A, 80 ~ 89점은 B, 70 ~ 79점은 C, 60 ~ 69점은 D, 나머지 점수는 F를 출력하는 프로그램을 작성하시오.\n",
    "\n",
    "n = int(input())\n",
    "if n>=90:\n",
    "    print('A')\n",
    "elif n>=80:\n",
    "    print('B')\n",
    "elif n>=70:\n",
    "    print('C')\n",
    "elif n>=60:\n",
    "    print('D')\n",
    "else:\n",
    "    print('F')"
   ]
  },
  {
   "cell_type": "code",
   "execution_count": 9,
   "id": "1801643f",
   "metadata": {},
   "outputs": [
    {
     "name": "stdout",
     "output_type": "stream",
     "text": [
      "1999\n",
      "0\n"
     ]
    }
   ],
   "source": [
    "#2753\n",
    "'''연도가 주어졌을 때, 윤년이면 1, 아니면 0을 출력하는 프로그램을 작성하시오.\n",
    "\n",
    "윤년은 연도가 4의 배수이면서, 100의 배수가 아닐 때 또는 400의 배수일 때이다.\n",
    "\n",
    "예를 들어, 2012년은 4의 배수이면서 100의 배수가 아니라서 윤년이다. 1900년은 100의 배수이고 400의 배수는 아니기 때문에 윤년이 아니다. 하지만, 2000년은 400의 배수이기 때문에 윤년이다.'''\n",
    "\n",
    "n = int(input())\n",
    "print(int((n%4==0 and n%100 !=0) or n%400==0))"
   ]
  },
  {
   "cell_type": "code",
   "execution_count": 11,
   "id": "0a03a4a6",
   "metadata": {},
   "outputs": [
    {
     "name": "stdout",
     "output_type": "stream",
     "text": [
      "9\n",
      "-13\n",
      "4\n"
     ]
    }
   ],
   "source": [
    "#14681\n",
    "# 점의 좌표를 입력받아 그 점이 어느 사분면에 속하는지 알아내는 프로그램을 작성하시오. 단, x좌표와 y좌표는 모두 양수나 음수라고 가정한다.\n",
    "x = int(input())\n",
    "y = int(input())\n",
    "if x>0:\n",
    "    if y>0:\n",
    "        print('1')\n",
    "    else:\n",
    "        print('4')\n",
    "if x<0:\n",
    "    if y>0:\n",
    "        print('2')\n",
    "    else:\n",
    "        print('3')\n"
   ]
  },
  {
   "cell_type": "code",
   "execution_count": 16,
   "id": "83ab94d8",
   "metadata": {
    "scrolled": true
   },
   "outputs": [
    {
     "name": "stdout",
     "output_type": "stream",
     "text": [
      "0 45\n",
      "0 0\n"
     ]
    }
   ],
   "source": [
    "#2884\n",
    "'''\n",
    "이런 상근이를 불쌍하게 보던, 창영이는 자신이 사용하는 방법을 추천해 주었다.\n",
    "\n",
    "바로 \"45분 일찍 알람 설정하기\"이다.\n",
    "현재 상근이가 설정한 알람 시각이 주어졌을 때, 창영이의 방법을 사용한다면, 이를 언제로 고쳐야 하는지 구하는 프로그램을 작성하시오.\n",
    "'''\n",
    "\n",
    "h, m = map(int,input().split())\n",
    "t = h*60+m #알람시간을 분으로 환산\n",
    "c_t = t-45 #분으로 표현된 창영이 방식의 알람 시간\n",
    "if c_t>=0 : #자정 이후 일때\n",
    "    h = c_t//60 #표현될 알람의 시간\n",
    "    m = c_t-h*60 #표현될 알람의 분\n",
    "    print(h,m)\n",
    "else : # 자정 이전으로 넘어갔을때\n",
    "    c_t = 24*60 + c_t #분으로 표현된 시간을 적용\n",
    "    h = c_t//60 #표현될 알람의 시간\n",
    "    m = c_t-h*60 #표현될 알람의 분\n",
    "    print(h,m)\n",
    "\n",
    "##더 간결한 답안\n",
    "h, m = map(int,input().split())\n",
    "if m<45:\n",
    "    m += 60\n",
    "    if h == 0:\n",
    "        h = 23\n",
    "    else :\n",
    "        h -=1\n",
    "print(h, m-45)  "
   ]
  },
  {
   "cell_type": "code",
   "execution_count": 7,
   "id": "a4d94590",
   "metadata": {},
   "outputs": [
    {
     "name": "stdout",
     "output_type": "stream",
     "text": [
      "23 48\n",
      "25\n",
      "0 13\n"
     ]
    }
   ],
   "source": [
    "#2525\n",
    "# 훈제오리구이를 시작하는 시각과 오븐구이를 하는 데 필요한 시간이 분단위로 주어졌을 때, 오븐구이가 끝나는 시각을 계산하는 프로그램을 작성하시오.\n",
    "A, B = map(int,input().split()) # 현재 시간, 분\n",
    "C = int(input()) # 요리하는데 걸리는 시간\n",
    "t = A*60+B+C #요리가 끝나는 시간을 분으로 환산\n",
    "if t >= 24*60 : #다음날로 넘어갈때\n",
    "    A = t//60-24 #표현될 알람의 시간\n",
    "    B = t%60 #표현될 알람의 분\n",
    "else : # 다음날로 안넘어갈때\n",
    "    A = t//60 #표현될 알람의 시간\n",
    "    B = t%60 #표현될 알람의 분\n",
    "print(A,B)\n"
   ]
  },
  {
   "cell_type": "code",
   "execution_count": 11,
   "id": "547a27c6",
   "metadata": {},
   "outputs": [
    {
     "name": "stdout",
     "output_type": "stream",
     "text": [
      "6 2 5\n",
      "600\n"
     ]
    }
   ],
   "source": [
    "#2480\n",
    "#3개 주사위의 나온 눈이 주어질 때, 상금을 계산하는 프로그램을 작성 하시오.\n",
    "A, B, C = map(int,input().split())\n",
    "if A == B:\n",
    "    if B == C:\n",
    "        n = 10000+A*1000\n",
    "    else :\n",
    "        n = 1000+A*100\n",
    "if A == C and C != B:\n",
    "    n = 1000+A*100\n",
    "if A != B:\n",
    "    if A ==C:\n",
    "        n = 1000+A*100\n",
    "    elif B ==C:\n",
    "        n = 1000+B*100\n",
    "    else :\n",
    "        if A>B:\n",
    "            if A>C:\n",
    "                n = A*100\n",
    "            elif A<C:\n",
    "                n = C*100\n",
    "        if B>A:\n",
    "            if B>C:\n",
    "                n = B*100\n",
    "            elif B<C:\n",
    "                n = C*100\n",
    "print(n)\n"
   ]
  },
  {
   "cell_type": "code",
   "execution_count": null,
   "id": "33b7fec1",
   "metadata": {},
   "outputs": [],
   "source": []
  }
 ],
 "metadata": {
  "kernelspec": {
   "display_name": "Python 3 (ipykernel)",
   "language": "python",
   "name": "python3"
  },
  "language_info": {
   "codemirror_mode": {
    "name": "ipython",
    "version": 3
   },
   "file_extension": ".py",
   "mimetype": "text/x-python",
   "name": "python",
   "nbconvert_exporter": "python",
   "pygments_lexer": "ipython3",
   "version": "3.9.13"
  },
  "toc": {
   "base_numbering": 1,
   "nav_menu": {},
   "number_sections": true,
   "sideBar": true,
   "skip_h1_title": false,
   "title_cell": "Table of Contents",
   "title_sidebar": "Contents",
   "toc_cell": false,
   "toc_position": {},
   "toc_section_display": true,
   "toc_window_display": false
  }
 },
 "nbformat": 4,
 "nbformat_minor": 5
}
